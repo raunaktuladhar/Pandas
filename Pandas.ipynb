{
 "cells": [
  {
   "cell_type": "markdown",
   "id": "379e896f-bcb8-4305-b792-71e7928e05eb",
   "metadata": {},
   "source": [
    "# Pandas\n",
    "Pandas is a popular open-source Python library for data analysis and manipulation. It is widely used in Machine Learning and Data Science for handling datasets efficiently.\n",
    "\n",
    "### Why use Pandas?\n",
    "* Helps in reading, cleaning and analyzing data\n",
    "* Makes working with structured data (CSV, Excel, SQL, etc.) easy\n",
    "\n",
    "### Installation:\n",
    "Pandas is an external library, so you need to install it using:\n",
    "`pip install pandas`"
   ]
  },
  {
   "cell_type": "markdown",
   "id": "f0cb4b94-74ca-419a-8ca8-ab2044aa9f58",
   "metadata": {},
   "source": [
    "## DataFrame\n",
    "A Pandas DataFrame is a 2D data structure like a table with rows and columns. It is used to store and manipulate structured data efficiently."
   ]
  },
  {
   "cell_type": "markdown",
   "id": "f754aa95-633d-4f9c-9107-f35cd1ae8b4f",
   "metadata": {},
   "source": [
    "### Creating a DataFrame in Pandas:"
   ]
  },
  {
   "cell_type": "code",
   "execution_count": 36,
   "id": "78b19d4b-cfaf-43fa-b31e-14d7ba0f9398",
   "metadata": {},
   "outputs": [
    {
     "name": "stdout",
     "output_type": "stream",
     "text": [
      "   StudentID     Name  Age Grade\n",
      "0        101    Alice   20     A\n",
      "1        102      Bob   21     B\n",
      "2        103  Charlie   19     B\n",
      "3        104    David   22     C\n"
     ]
    }
   ],
   "source": [
    "import pandas as pd\n",
    "\n",
    "student_data = {\n",
    "    \"StudentID\": [101,102,103,104],\n",
    "    \"Name\": [\"Alice\",\"Bob\",\"Charlie\",\"David\"],\n",
    "    \"Age\": [20,21,19,22],\n",
    "    \"Grade\": [\"A\",\"B\",\"B\",\"C\"]\n",
    "}\n",
    "\n",
    "student_df = pd.DataFrame(student_data)\n",
    "print(student_df)"
   ]
  },
  {
   "cell_type": "markdown",
   "id": "fda7819b-f210-4918-9578-164cbad4355e",
   "metadata": {},
   "source": [
    "## Basic DataFrame Operations\n",
    "You can easily access, modify, add and delete columns in a Pandas DataFrame."
   ]
  },
  {
   "cell_type": "code",
   "execution_count": 41,
   "id": "d0f2e8ba-b0a8-4e2a-8ba6-99a7748101b3",
   "metadata": {},
   "outputs": [
    {
     "name": "stdout",
     "output_type": "stream",
     "text": [
      "      Name\n",
      "0    Alice\n",
      "1      Bob\n",
      "2  Charlie\n",
      "3    David\n",
      "   Age Grade\n",
      "0   20     A\n",
      "1   21     B\n",
      "2   19     B\n",
      "3   22     C\n"
     ]
    }
   ],
   "source": [
    "# Accessing columns\n",
    "print(student_df[['Name']])            # single column\n",
    "print(student_df[['Age','Grade']])     # multiple columns"
   ]
  },
  {
   "cell_type": "code",
   "execution_count": 43,
   "id": "f0db3c26-55b0-4375-a6b9-652205fc582f",
   "metadata": {},
   "outputs": [
    {
     "name": "stdout",
     "output_type": "stream",
     "text": [
      "   StudentID     Name  Age Grade  NewColumn\n",
      "0        101    Alice   20     A          1\n",
      "1        102      Bob   21     B          2\n",
      "2        103  Charlie   19     B          3\n",
      "3        104    David   22     C          4\n"
     ]
    }
   ],
   "source": [
    "# Adding a new column\n",
    "student_df['NewColumn'] = [1,2,3,4]\n",
    "print(student_df)"
   ]
  },
  {
   "cell_type": "code",
   "execution_count": 45,
   "id": "8fdd146f-3699-4ddb-9a7c-6aff8a6376fe",
   "metadata": {},
   "outputs": [
    {
     "name": "stdout",
     "output_type": "stream",
     "text": [
      "   StudentID     Name  Age Grade\n",
      "0        101    Alice   20     A\n",
      "1        102      Bob   21     B\n",
      "2        103  Charlie   19     B\n",
      "3        104    David   22     C\n"
     ]
    }
   ],
   "source": [
    "# Deleting a column\n",
    "student_df.drop(columns=['NewColumn'], inplace=True)\n",
    "print(student_df)"
   ]
  },
  {
   "cell_type": "code",
   "execution_count": 47,
   "id": "30c85a96-41cc-4a12-9653-5e9ef4f589a0",
   "metadata": {},
   "outputs": [
    {
     "name": "stdout",
     "output_type": "stream",
     "text": [
      "   StudentID     Name  Age FinalGrade\n",
      "0        101    Alice   20          A\n",
      "1        102      Bob   21          B\n",
      "2        103  Charlie   19          B\n",
      "3        104    David   22          C\n"
     ]
    }
   ],
   "source": [
    "# Renaming a column\n",
    "student_df.rename(columns={'Grade': 'FinalGrade'}, inplace=True)\n",
    "print(student_df)"
   ]
  },
  {
   "cell_type": "markdown",
   "id": "7cbc580f-fcb2-4493-96fa-39fc2444e4e2",
   "metadata": {},
   "source": [
    "## Reading a CSV File in Pandas\n",
    "CSV files are widely used in Machine Learning and Data Science for handling large datasets."
   ]
  },
  {
   "cell_type": "code",
   "execution_count": 55,
   "id": "acb65019-dcb1-4b15-a6c5-3f8fe9ed5880",
   "metadata": {},
   "outputs": [
    {
     "name": "stdout",
     "output_type": "stream",
     "text": [
      "     Duration  Pulse  Maxpulse  Calories              date\n",
      "0          60  110.0       130     409.1  12/31/2023 10:46\n",
      "1          60  117.0       145     479.0     1/1/2024 0:00\n",
      "2          60    NaN       135     340.0    1/2/2024 10:46\n",
      "3          45  109.0       175     282.4    1/3/2024 10:46\n",
      "4          45  117.0       148     406.0    1/4/2024 10:46\n",
      "..        ...    ...       ...       ...               ...\n",
      "164        60  105.0       140     290.8   6/12/2024 10:45\n",
      "165        60  110.0       145     300.0   6/13/2024 10:45\n",
      "166        60  115.0       145     310.2   6/14/2024 10:45\n",
      "167        75  120.0       150     320.4   6/15/2024 10:45\n",
      "168        75  125.0       150     330.4   6/16/2024 10:45\n",
      "\n",
      "[169 rows x 5 columns]\n"
     ]
    }
   ],
   "source": [
    "import pandas as pd\n",
    "\n",
    "# Reading a CSV file\n",
    "df = pd.read_csv('data.csv')\n",
    "\n",
    "# Displaying the DataFrame\n",
    "print(df)"
   ]
  },
  {
   "cell_type": "markdown",
   "id": "4ed5ca00-56a6-4f04-8502-4b4cc8ff0584",
   "metadata": {},
   "source": [
    ">This allows you to load and analyze large datasets efficiently using Pandas!"
   ]
  },
  {
   "cell_type": "markdown",
   "id": "25f0dec6-90b1-49db-8d6c-6cc85a07cdd9",
   "metadata": {},
   "source": [
    "## Statistical Analysis in Pandas\n",
    "Pandas provides powerful functions to analyze data and extract insights."
   ]
  },
  {
   "cell_type": "code",
   "execution_count": 60,
   "id": "c344558c-0f7f-465c-8cb2-1cf5aed7161a",
   "metadata": {},
   "outputs": [],
   "source": [
    "import pandas as pd"
   ]
  },
  {
   "cell_type": "code",
   "execution_count": 64,
   "id": "d882309c-8d9a-4082-bb13-38942ff03b62",
   "metadata": {},
   "outputs": [],
   "source": [
    "# Load dataset\n",
    "df = pd.read_csv('data.csv')"
   ]
  },
  {
   "cell_type": "code",
   "execution_count": 66,
   "id": "19c80499-134c-4f82-8622-f05d9dd50019",
   "metadata": {},
   "outputs": [
    {
     "name": "stdout",
     "output_type": "stream",
     "text": [
      "         Duration       Pulse    Maxpulse     Calories\n",
      "count  169.000000  168.000000  169.000000   164.000000\n",
      "mean    63.846154  107.488095  134.047337   375.790244\n",
      "std     42.299949   14.549518   16.450434   266.379919\n",
      "min     15.000000   80.000000  100.000000    50.300000\n",
      "25%     45.000000  100.000000  124.000000   250.925000\n",
      "50%     60.000000  105.000000  131.000000   318.600000\n",
      "75%     60.000000  111.000000  141.000000   387.600000\n",
      "max    300.000000  159.000000  184.000000  1860.400000\n"
     ]
    }
   ],
   "source": [
    "# Statistical Summary\n",
    "print(df.describe()) # mean, max, min, etc."
   ]
  },
  {
   "cell_type": "code",
   "execution_count": 68,
   "id": "0999add4-fcd2-4d8d-b372-38a87fcd2649",
   "metadata": {},
   "outputs": [
    {
     "name": "stdout",
     "output_type": "stream",
     "text": [
      "[110. 117.  nan 109. 102. 104.  98. 103. 100. 106.  90.  97. 108. 130.\n",
      " 105.  92. 101.  93. 107. 114. 111.  99. 123. 118. 136. 121. 115. 153.\n",
      " 159. 149. 151. 129.  83.  80. 150.  95. 152. 137. 124. 116. 112. 119.\n",
      " 113. 141. 122.  85. 120. 125.]\n"
     ]
    }
   ],
   "source": [
    "# Unique values in a column\n",
    "print(df['Pulse'].unique())"
   ]
  },
  {
   "cell_type": "code",
   "execution_count": 70,
   "id": "886aba28-aae0-45aa-81f0-465c0d5594ac",
   "metadata": {},
   "outputs": [
    {
     "name": "stdout",
     "output_type": "stream",
     "text": [
      "Pulse\n",
      "100.0    19\n",
      "90.0     12\n",
      "109.0     9\n",
      "107.0     8\n",
      "103.0     8\n",
      "108.0     7\n",
      "97.0      7\n",
      "110.0     7\n",
      "106.0     6\n",
      "111.0     6\n",
      "98.0      6\n",
      "105.0     6\n",
      "102.0     6\n",
      "104.0     4\n",
      "114.0     4\n",
      "95.0      3\n",
      "115.0     3\n",
      "117.0     3\n",
      "118.0     3\n",
      "136.0     3\n",
      "93.0      3\n",
      "92.0      3\n",
      "99.0      2\n",
      "151.0     2\n",
      "112.0     2\n",
      "123.0     2\n",
      "80.0      2\n",
      "150.0     2\n",
      "101.0     2\n",
      "149.0     1\n",
      "116.0     1\n",
      "120.0     1\n",
      "85.0      1\n",
      "122.0     1\n",
      "141.0     1\n",
      "113.0     1\n",
      "119.0     1\n",
      "124.0     1\n",
      "159.0     1\n",
      "137.0     1\n",
      "152.0     1\n",
      "130.0     1\n",
      "121.0     1\n",
      "153.0     1\n",
      "83.0      1\n",
      "129.0     1\n",
      "125.0     1\n",
      "Name: count, dtype: int64\n"
     ]
    }
   ],
   "source": [
    "# Value counts (frequency)\n",
    "print(df['Pulse'].value_counts())"
   ]
  },
  {
   "cell_type": "code",
   "execution_count": 80,
   "id": "851d5e4d-f64b-43da-9731-6a4ab56c044f",
   "metadata": {},
   "outputs": [
    {
     "data": {
      "text/html": [
       "<div>\n",
       "<style scoped>\n",
       "    .dataframe tbody tr th:only-of-type {\n",
       "        vertical-align: middle;\n",
       "    }\n",
       "\n",
       "    .dataframe tbody tr th {\n",
       "        vertical-align: top;\n",
       "    }\n",
       "\n",
       "    .dataframe thead th {\n",
       "        text-align: right;\n",
       "    }\n",
       "</style>\n",
       "<table border=\"1\" class=\"dataframe\">\n",
       "  <thead>\n",
       "    <tr style=\"text-align: right;\">\n",
       "      <th></th>\n",
       "      <th>Duration</th>\n",
       "      <th>Pulse</th>\n",
       "      <th>Maxpulse</th>\n",
       "      <th>Calories</th>\n",
       "    </tr>\n",
       "  </thead>\n",
       "  <tbody>\n",
       "    <tr>\n",
       "      <th>0</th>\n",
       "      <td>60</td>\n",
       "      <td>110.0</td>\n",
       "      <td>130</td>\n",
       "      <td>409.1</td>\n",
       "    </tr>\n",
       "    <tr>\n",
       "      <th>1</th>\n",
       "      <td>60</td>\n",
       "      <td>117.0</td>\n",
       "      <td>145</td>\n",
       "      <td>479.0</td>\n",
       "    </tr>\n",
       "    <tr>\n",
       "      <th>2</th>\n",
       "      <td>60</td>\n",
       "      <td>NaN</td>\n",
       "      <td>135</td>\n",
       "      <td>340.0</td>\n",
       "    </tr>\n",
       "    <tr>\n",
       "      <th>3</th>\n",
       "      <td>45</td>\n",
       "      <td>109.0</td>\n",
       "      <td>175</td>\n",
       "      <td>282.4</td>\n",
       "    </tr>\n",
       "    <tr>\n",
       "      <th>4</th>\n",
       "      <td>45</td>\n",
       "      <td>117.0</td>\n",
       "      <td>148</td>\n",
       "      <td>406.0</td>\n",
       "    </tr>\n",
       "    <tr>\n",
       "      <th>...</th>\n",
       "      <td>...</td>\n",
       "      <td>...</td>\n",
       "      <td>...</td>\n",
       "      <td>...</td>\n",
       "    </tr>\n",
       "    <tr>\n",
       "      <th>164</th>\n",
       "      <td>60</td>\n",
       "      <td>105.0</td>\n",
       "      <td>140</td>\n",
       "      <td>290.8</td>\n",
       "    </tr>\n",
       "    <tr>\n",
       "      <th>165</th>\n",
       "      <td>60</td>\n",
       "      <td>110.0</td>\n",
       "      <td>145</td>\n",
       "      <td>300.0</td>\n",
       "    </tr>\n",
       "    <tr>\n",
       "      <th>166</th>\n",
       "      <td>60</td>\n",
       "      <td>115.0</td>\n",
       "      <td>145</td>\n",
       "      <td>310.2</td>\n",
       "    </tr>\n",
       "    <tr>\n",
       "      <th>167</th>\n",
       "      <td>75</td>\n",
       "      <td>120.0</td>\n",
       "      <td>150</td>\n",
       "      <td>320.4</td>\n",
       "    </tr>\n",
       "    <tr>\n",
       "      <th>168</th>\n",
       "      <td>75</td>\n",
       "      <td>125.0</td>\n",
       "      <td>150</td>\n",
       "      <td>330.4</td>\n",
       "    </tr>\n",
       "  </tbody>\n",
       "</table>\n",
       "<p>169 rows × 4 columns</p>\n",
       "</div>"
      ],
      "text/plain": [
       "     Duration  Pulse  Maxpulse  Calories\n",
       "0          60  110.0       130     409.1\n",
       "1          60  117.0       145     479.0\n",
       "2          60    NaN       135     340.0\n",
       "3          45  109.0       175     282.4\n",
       "4          45  117.0       148     406.0\n",
       "..        ...    ...       ...       ...\n",
       "164        60  105.0       140     290.8\n",
       "165        60  110.0       145     300.0\n",
       "166        60  115.0       145     310.2\n",
       "167        75  120.0       150     320.4\n",
       "168        75  125.0       150     330.4\n",
       "\n",
       "[169 rows x 4 columns]"
      ]
     },
     "execution_count": 80,
     "metadata": {},
     "output_type": "execute_result"
    }
   ],
   "source": [
    "df"
   ]
  },
  {
   "cell_type": "code",
   "execution_count": 84,
   "id": "570a4e77-4abb-423a-94fa-a2d699c4e698",
   "metadata": {},
   "outputs": [
    {
     "name": "stdout",
     "output_type": "stream",
     "text": [
      "          Duration     Pulse  Maxpulse  Calories\n",
      "Duration  1.000000 -0.155623  0.009403  0.922717\n",
      "Pulse    -0.155623  1.000000  0.786872  0.024865\n",
      "Maxpulse  0.009403  0.786872  1.000000  0.203813\n",
      "Calories  0.922717  0.024865  0.203813  1.000000\n"
     ]
    }
   ],
   "source": [
    "# Correlation between numerical features\n",
    "print(df.corr())"
   ]
  },
  {
   "cell_type": "code",
   "execution_count": 92,
   "id": "7c2e436b-5395-4453-8032-72522625f9e4",
   "metadata": {},
   "outputs": [
    {
     "name": "stdout",
     "output_type": "stream",
     "text": [
      "Mean:\n",
      " Duration     63.846154\n",
      "Pulse       107.488095\n",
      "Maxpulse    134.047337\n",
      "Calories    375.790244\n",
      "dtype: float64\n",
      "\n",
      "Median:\n",
      " Duration     60.0\n",
      "Pulse       105.0\n",
      "Maxpulse    131.0\n",
      "Calories    318.6\n",
      "dtype: float64\n",
      "\n",
      "Mode:\n",
      "    Duration  Pulse  Maxpulse  Calories\n",
      "0        60  100.0       120     300.0\n"
     ]
    }
   ],
   "source": [
    "# Other statistical functions\n",
    "print(\"Mean:\\n\", df.mean())   # mean\n",
    "print(\"\\nMedian:\\n\", df.median()) # median\n",
    "print(\"\\nMode:\\n\", df.mode())   # mode"
   ]
  }
 ],
 "metadata": {
  "kernelspec": {
   "display_name": "Python 3 (ipykernel)",
   "language": "python",
   "name": "python3"
  },
  "language_info": {
   "codemirror_mode": {
    "name": "ipython",
    "version": 3
   },
   "file_extension": ".py",
   "mimetype": "text/x-python",
   "name": "python",
   "nbconvert_exporter": "python",
   "pygments_lexer": "ipython3",
   "version": "3.12.7"
  }
 },
 "nbformat": 4,
 "nbformat_minor": 5
}
